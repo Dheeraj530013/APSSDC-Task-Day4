{
 "cells": [
  {
   "cell_type": "markdown",
   "metadata": {},
   "source": [
    "##Program to find the middle character(s) of any given string"
   ]
  },
  {
   "cell_type": "code",
   "execution_count": 1,
   "metadata": {},
   "outputs": [
    {
     "name": "stdout",
     "output_type": "stream",
     "text": [
      "\t\t\t\t\tFinding the Middle character(s)\n",
      "\n",
      "Instructions:\n",
      "\n",
      "Do not leave any spaces between any characters in the string.\n",
      "Do not use any special characters like '-','.','_','*',etc.\n",
      "The characters can be written in lower case or upper case or both.\n",
      "\n",
      "Enter any string to find it's middle character(s):\n",
      " Visakhapatnam\n",
      "As Length of string is 13, which is odd, the middle character is a\n"
     ]
    }
   ],
   "source": [
    "string = input(\"\\t\\t\\t\\t\\tFinding the Middle character(s)\\n\\nInstructions:\\n\\nDo not leave any spaces between any characters in the string.\\nDo not use any special characters like '-','.','_','*',etc.\\nThe characters can be written in lower case or upper case or both.\\n\\nEnter any string to find it's middle character(s):\\n \")\n",
    "if len(string)%2==0:\n",
    "    print(\"As Length of string is {e}, which is even, we have 2 middle characters. They are:\\n\\t\\t\".format(e=len(string)))\n",
    "    print(string[len(string)//2 - 1], string[len(string)//2])\n",
    "else:\n",
    "    print(\"As Length of string is {o}, which is odd, the middle character is {mc}\".format(o=len(string), mc=string[(len(string)-1)//2]))\n",
    " "
   ]
  },
  {
   "cell_type": "code",
   "execution_count": 2,
   "metadata": {},
   "outputs": [
    {
     "name": "stdout",
     "output_type": "stream",
     "text": [
      "\t\t\t\t\tFinding the Middle character(s)\n",
      "\n",
      "Instructions:\n",
      "\n",
      "Do not leave any spaces between any characters in the string.\n",
      "Do not use any special characters like '-','.','_','*',etc.\n",
      "The characters can be written in lower case or upper case or both.\n",
      "\n",
      "Enter any string to find it's middle character(s):\n",
      " HimalAYa\n",
      "As Length of string is 8, which is even, we have 2 middle characters. They are:\n",
      "\t\t\n",
      "a l\n"
     ]
    }
   ],
   "source": [
    "string = input(\"\\t\\t\\t\\t\\tFinding the Middle character(s)\\n\\nInstructions:\\n\\nDo not leave any spaces between any characters in the string.\\nDo not use any special characters like '-','.','_','*',etc.\\nThe characters can be written in lower case or upper case or both.\\n\\nEnter any string to find it's middle character(s):\\n \")\n",
    "if len(string)%2==0:\n",
    "    print(\"As Length of string is {e}, which is even, we have 2 middle characters. They are:\\n\\t\\t\".format(e=len(string)))\n",
    "    print(string[len(string)//2 - 1], string[len(string)//2])\n",
    "else:\n",
    "    print(\"As Length of string is {o}, which is odd, the middle character is {mc}\".format(o=len(string), mc=string[(len(string)-1)//2]))"
   ]
  },
  {
   "cell_type": "markdown",
   "metadata": {},
   "source": [
    "The word himalaya, written with both lower case and upper case alphabets"
   ]
  },
  {
   "cell_type": "code",
   "execution_count": 3,
   "metadata": {},
   "outputs": [
    {
     "name": "stdout",
     "output_type": "stream",
     "text": [
      "\t\t\t\t\tFinding the Middle character(s)\n",
      "\n",
      "Instructions:\n",
      "\n",
      "Do not leave any spaces between any characters in the string.\n",
      "Do not use any special characters like '-','.','_','*',etc.\n",
      "The characters can be written in lower case or upper case or both.\n",
      "\n",
      "Enter any string to find it's middle character(s):\n",
      " COVISHIELD\n",
      "As Length of string is 10, which is even, we have 2 middle characters. They are:\n",
      "\t\t\n",
      "S H\n"
     ]
    }
   ],
   "source": [
    "string = input(\"\\t\\t\\t\\t\\tFinding the Middle character(s)\\n\\nInstructions:\\n\\nDo not leave any spaces between any characters in the string.\\nDo not use any special characters like '-','.','_','*',etc.\\nThe characters can be written in lower case or upper case or both.\\n\\nEnter any string to find it's middle character(s):\\n \")\n",
    "if len(string)%2==0:\n",
    "    print(\"As Length of string is {e}, which is even, we have 2 middle characters. They are:\\n\\t\\t\".format(e=len(string)))\n",
    "    print(string[len(string)//2 - 1], string[len(string)//2])\n",
    "else:\n",
    "    print(\"As Length of string is {o}, which is odd, the middle character is {mc}\".format(o=len(string), mc=string[(len(string)-1)//2]))"
   ]
  },
  {
   "cell_type": "markdown",
   "metadata": {},
   "source": [
    "Written completely in uppercase"
   ]
  },
  {
   "cell_type": "code",
   "execution_count": 5,
   "metadata": {},
   "outputs": [
    {
     "name": "stdout",
     "output_type": "stream",
     "text": [
      "\t\t\t\t\tFinding the Middle character(s)\n",
      "\n",
      "Instructions:\n",
      "\n",
      "Do not leave any spaces between any characters in the string.\n",
      "Do not use any special characters like '-','.','_','*',etc.\n",
      "The characters can be written in lower case or upper case or both.\n",
      "\n",
      "Enter any string to find it's middle character(s):\n",
      " submarine\n",
      "As Length of string is 9, which is odd, the middle character is a\n"
     ]
    }
   ],
   "source": [
    "string = input(\"\\t\\t\\t\\t\\tFinding the Middle character(s)\\n\\nInstructions:\\n\\nDo not leave any spaces between any characters in the string.\\nDo not use any special characters like '-','.','_','*',etc.\\nThe characters can be written in lower case or upper case or both.\\n\\nEnter any string to find it's middle character(s):\\n \")\n",
    "if len(string)%2==0:\n",
    "    print(\"As Length of string is {e}, which is even, we have 2 middle characters. They are:\\n\\t\\t\".format(e=len(string)))\n",
    "    print(string[len(string)//2 - 1], string[len(string)//2])\n",
    "else:\n",
    "    print(\"As Length of string is {o}, which is odd, the middle character is {mc}\".format(o=len(string), mc=string[(len(string)-1)//2]))"
   ]
  },
  {
   "cell_type": "markdown",
   "metadata": {},
   "source": [
    "Written completely in lower case"
   ]
  },
  {
   "cell_type": "code",
   "execution_count": null,
   "metadata": {},
   "outputs": [],
   "source": []
  }
 ],
 "metadata": {
  "kernelspec": {
   "display_name": "Python 3",
   "language": "python",
   "name": "python3"
  },
  "language_info": {
   "codemirror_mode": {
    "name": "ipython",
    "version": 3
   },
   "file_extension": ".py",
   "mimetype": "text/x-python",
   "name": "python",
   "nbconvert_exporter": "python",
   "pygments_lexer": "ipython3",
   "version": "3.7.4"
  }
 },
 "nbformat": 4,
 "nbformat_minor": 2
}
